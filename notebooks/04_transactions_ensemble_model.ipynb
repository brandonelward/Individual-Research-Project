{
 "cells": [
  {
   "cell_type": "code",
   "execution_count": 1,
   "id": "2cfed366",
   "metadata": {},
   "outputs": [
    {
     "name": "stdout",
     "output_type": "stream",
     "text": [
      "Transactions dataset loaded successfully!\n",
      "Original shape: (6362620, 11)\n",
      "Shape after cleaning: (6264740, 7)\n"
     ]
    }
   ],
   "source": [
    "import pandas as pd\n",
    "import numpy as np\n",
    "import joblib\n",
    "import shap\n",
    "from pathlib import Path\n",
    "from sklearn.model_selection import train_test_split\n",
    "from sklearn.ensemble import RandomForestClassifier, VotingClassifier\n",
    "from sklearn.linear_model import LogisticRegression\n",
    "from sklearn.metrics import classification_report, confusion_matrix\n",
    "\n",
    "# Loads the Dataset\n",
    "try:\n",
    "    df = pd.read_csv('../data/transactions.csv')\n",
    "    print(\"Transactions dataset loaded successfully!\")\n",
    "    print(f\"Original shape: {df.shape}\")\n",
    "except FileNotFoundError:\n",
    "    print(\"Error: Make sure 'transactions.csv' is in the '../data/' directory.\")\n",
    "\n",
    "# Data Cleaning\n",
    "# Drops irrelevant columns and remove duplicates as done in the XGBoost notebook\n",
    "df_cleaned = df.drop(columns=['step', 'nameOrig', 'nameDest', 'isFlaggedFraud'])\n",
    "df_cleaned = df_cleaned.drop_duplicates()\n",
    "print(f\"Shape after cleaning: {df_cleaned.shape}\")"
   ]
  },
  {
   "cell_type": "code",
   "execution_count": 2,
   "id": "2e398cf2",
   "metadata": {},
   "outputs": [
    {
     "name": "stdout",
     "output_type": "stream",
     "text": [
      "\n",
      "Data preprocessing complete.\n",
      "Features shape: (6264740, 11)\n"
     ]
    }
   ],
   "source": [
    "def preprocess_transactions_data(df):\n",
    "    \"\"\"Prepares the PaySim dataset by one-hot encoding and creating error features.\"\"\"\n",
    "    df_processed = df.copy()\n",
    "\n",
    "    # One-hot encodes the 'type' column\n",
    "    if 'type' in df_processed.columns:\n",
    "        type_dummies = pd.get_dummies(df_processed['type'], prefix='type', drop_first=True)\n",
    "        df_processed = pd.concat([df_processed, type_dummies], axis=1)\n",
    "        df_processed = df_processed.drop('type', axis=1)\n",
    "    \n",
    "    # Engineer features related to balance discrepancies\n",
    "    df_processed['errorBalanceOrig'] = df_processed['oldbalanceOrg'] - df_processed['amount'] - df_processed['newbalanceOrig']\n",
    "    df_processed['errorBalanceDest'] = df_processed['oldbalanceDest'] + df_processed['amount'] - df_processed['newbalanceDest']\n",
    "    \n",
    "    # Separates features (X) and target (y)\n",
    "    if 'isFraud' in df_processed.columns:\n",
    "        X = df_processed.drop('isFraud', axis=1)\n",
    "        y = df_processed['isFraud']\n",
    "        return X, y\n",
    "    return df_processed\n",
    "\n",
    "# Appllies preprocessing\n",
    "X, y = preprocess_transactions_data(df_cleaned)\n",
    "print(\"\\nData preprocessing complete.\")\n",
    "print(\"Features shape:\", X.shape)"
   ]
  },
  {
   "cell_type": "code",
   "execution_count": 3,
   "id": "544a9d6a",
   "metadata": {},
   "outputs": [
    {
     "name": "stdout",
     "output_type": "stream",
     "text": [
      "\n",
      "Defining base models for the ensemble...\n",
      "Models defined and data is split.\n"
     ]
    }
   ],
   "source": [
    "# Splits data into training and testing sets\n",
    "X_train, X_test, y_train, y_test = train_test_split(X, y, test_size=0.2, random_state=42, stratify=y)\n",
    "\n",
    "# Defines the two base models for our ensemble\n",
    "print(\"\\nDefining base models for the ensemble...\")\n",
    "clf1 = RandomForestClassifier(n_estimators=100, random_state=42, class_weight='balanced', n_jobs=-1) # Use all available CPU cores\n",
    "clf2 = LogisticRegression(random_state=42, class_weight='balanced', max_iter=1000)\n",
    "\n",
    "print(\"Models defined and data is split.\")"
   ]
  },
  {
   "cell_type": "code",
   "execution_count": 4,
   "id": "897ff2e1",
   "metadata": {},
   "outputs": [
    {
     "name": "stdout",
     "output_type": "stream",
     "text": [
      "\n",
      "Training the ensemble model... (This will take several minutes on the large dataset)\n",
      "Training complete.\n",
      "Ensemble Model Evaluation on Transactions Data:\n",
      "               precision    recall  f1-score   support\n",
      "\n",
      "Not Fraud (0)       1.00      1.00      1.00   1251318\n",
      "    Fraud (1)       1.00      0.99      1.00      1630\n",
      "\n",
      "     accuracy                           1.00   1252948\n",
      "    macro avg       1.00      1.00      1.00   1252948\n",
      " weighted avg       1.00      1.00      1.00   1252948\n",
      "\n"
     ]
    }
   ],
   "source": [
    "# Creates the ensemble model with a 70/30 weight split\n",
    "ensemble_transactions_model = VotingClassifier(\n",
    "    estimators=[('rf', clf1), ('lr', clf2)],\n",
    "    voting='soft',\n",
    "    weights=[0.7, 0.3]\n",
    ")\n",
    "\n",
    "print(\"\\nTraining the ensemble model... (This will take several minutes on the large dataset)\")\n",
    "ensemble_transactions_model.fit(X_train, y_train)\n",
    "print(\"Training complete.\")\n",
    "\n",
    "# Evaluates the model's performance\n",
    "print(\"Ensemble Model Evaluation on Transactions Data:\")\n",
    "y_pred = ensemble_transactions_model.predict(X_test)\n",
    "print(classification_report(y_test, y_pred, target_names=['Not Fraud (0)', 'Fraud (1)']))"
   ]
  },
  {
   "cell_type": "code",
   "execution_count": 5,
   "id": "410d71d8",
   "metadata": {},
   "outputs": [
    {
     "name": "stdout",
     "output_type": "stream",
     "text": [
      "\n",
      "Ensemble model saved successfully to: ..\\models\\ensemble_transactions_model.joblib\n",
      "SHAP explainer for the ensemble saved successfully to: ..\\models\\shap_explainer_ensemble_transactions.joblib\n"
     ]
    }
   ],
   "source": [
    "# Models directory\n",
    "model_dir = Path('../models')\n",
    "\n",
    "# Saves the trained ensemble model\n",
    "model_path = model_dir / 'ensemble_transactions_model.joblib'\n",
    "joblib.dump(ensemble_transactions_model, model_path)\n",
    "print(f\"\\nEnsemble model saved successfully to: {model_path}\")\n",
    "\n",
    "# For SHAP, it'll be explained using the dominant model (RandomForest)\n",
    "# Refits the RF model on the training data for the explainer\n",
    "rf_for_shap = RandomForestClassifier(n_estimators=100, random_state=42, class_weight='balanced', n_jobs=-1)\n",
    "rf_for_shap.fit(X_train, y_train)\n",
    "\n",
    "# Creates and saves the SHAP TreeExplainer\n",
    "explainer = shap.TreeExplainer(rf_for_shap)\n",
    "explainer_path = model_dir / 'shap_explainer_ensemble_transactions.joblib'\n",
    "joblib.dump(explainer, explainer_path)\n",
    "print(f\"SHAP explainer for the ensemble saved successfully to: {explainer_path}\")"
   ]
  }
 ],
 "metadata": {
  "kernelspec": {
   "display_name": ".venv",
   "language": "python",
   "name": "python3"
  },
  "language_info": {
   "codemirror_mode": {
    "name": "ipython",
    "version": 3
   },
   "file_extension": ".py",
   "mimetype": "text/x-python",
   "name": "python",
   "nbconvert_exporter": "python",
   "pygments_lexer": "ipython3",
   "version": "3.12.1"
  }
 },
 "nbformat": 4,
 "nbformat_minor": 5
}
